{
 "cells": [
  {
   "cell_type": "code",
   "execution_count": 1,
   "id": "0b5bea35",
   "metadata": {},
   "outputs": [],
   "source": [
    "import pandas as pd\n",
    "import pickle\n",
    "\n",
    "from sklearn.model_selection import train_test_split\n",
    "from sklearn.ensemble import RandomForestClassifier \n",
    "from sklearn import metrics\n",
    "\n",
    "dataset_url = \"https://raw.githubusercontent.com/Faizal215/cubas/main/out1.csv\"\n",
    "df = pd.read_csv(dataset_url, dtype = {'Status': str})\n",
    "\n",
    "#df.info()"
   ]
  },
  {
   "cell_type": "code",
   "execution_count": 2,
   "id": "9e444cfc",
   "metadata": {},
   "outputs": [
    {
     "data": {
      "text/html": [
       "<div>\n",
       "<style scoped>\n",
       "    .dataframe tbody tr th:only-of-type {\n",
       "        vertical-align: middle;\n",
       "    }\n",
       "\n",
       "    .dataframe tbody tr th {\n",
       "        vertical-align: top;\n",
       "    }\n",
       "\n",
       "    .dataframe thead th {\n",
       "        text-align: right;\n",
       "    }\n",
       "</style>\n",
       "<table border=\"1\" class=\"dataframe\">\n",
       "  <thead>\n",
       "    <tr style=\"text-align: right;\">\n",
       "      <th></th>\n",
       "      <th>oneNormAcc1</th>\n",
       "      <th>meanAcc1</th>\n",
       "      <th>maxAcc1</th>\n",
       "      <th>kurAcc1</th>\n",
       "      <th>varAcc1</th>\n",
       "      <th>oneNormAcc2</th>\n",
       "      <th>meanAcc2</th>\n",
       "      <th>maxAcc2</th>\n",
       "      <th>kurAcc2</th>\n",
       "      <th>varAcc2</th>\n",
       "      <th>...</th>\n",
       "      <th>meanAcc2f</th>\n",
       "      <th>maxAcc2f</th>\n",
       "      <th>kurAcc2f</th>\n",
       "      <th>varAcc2f</th>\n",
       "      <th>oneNormSPf</th>\n",
       "      <th>meanSPf</th>\n",
       "      <th>maxSPf</th>\n",
       "      <th>kurSPf</th>\n",
       "      <th>varSPf</th>\n",
       "      <th>Status</th>\n",
       "    </tr>\n",
       "  </thead>\n",
       "  <tbody>\n",
       "    <tr>\n",
       "      <th>0</th>\n",
       "      <td>252355.5238</td>\n",
       "      <td>-2.040000e-05</td>\n",
       "      <td>1.771526</td>\n",
       "      <td>3.369627</td>\n",
       "      <td>0.102191</td>\n",
       "      <td>236545.5182</td>\n",
       "      <td>-0.000014</td>\n",
       "      <td>2.581460</td>\n",
       "      <td>3.782630</td>\n",
       "      <td>0.093920</td>\n",
       "      <td>...</td>\n",
       "      <td>0.000588</td>\n",
       "      <td>0.035042</td>\n",
       "      <td>230.314873</td>\n",
       "      <td>8.760000e-07</td>\n",
       "      <td>2.454068</td>\n",
       "      <td>0.000150</td>\n",
       "      <td>0.007444</td>\n",
       "      <td>68.290202</td>\n",
       "      <td>9.470000e-08</td>\n",
       "      <td>developing</td>\n",
       "    </tr>\n",
       "    <tr>\n",
       "      <th>1</th>\n",
       "      <td>254551.4318</td>\n",
       "      <td>-8.550000e-07</td>\n",
       "      <td>1.916687</td>\n",
       "      <td>3.401545</td>\n",
       "      <td>0.104665</td>\n",
       "      <td>238521.4510</td>\n",
       "      <td>0.000004</td>\n",
       "      <td>3.433707</td>\n",
       "      <td>3.936618</td>\n",
       "      <td>0.096439</td>\n",
       "      <td>...</td>\n",
       "      <td>0.000589</td>\n",
       "      <td>0.024459</td>\n",
       "      <td>118.900212</td>\n",
       "      <td>7.530000e-07</td>\n",
       "      <td>2.487198</td>\n",
       "      <td>0.000152</td>\n",
       "      <td>0.007132</td>\n",
       "      <td>63.583436</td>\n",
       "      <td>9.180000e-08</td>\n",
       "      <td>developing</td>\n",
       "    </tr>\n",
       "    <tr>\n",
       "      <th>2</th>\n",
       "      <td>251983.2009</td>\n",
       "      <td>-4.160000e-06</td>\n",
       "      <td>1.721612</td>\n",
       "      <td>3.423726</td>\n",
       "      <td>0.103383</td>\n",
       "      <td>234660.8963</td>\n",
       "      <td>-0.000008</td>\n",
       "      <td>3.271788</td>\n",
       "      <td>3.954837</td>\n",
       "      <td>0.094232</td>\n",
       "      <td>...</td>\n",
       "      <td>0.000545</td>\n",
       "      <td>0.024901</td>\n",
       "      <td>151.750491</td>\n",
       "      <td>6.500000e-07</td>\n",
       "      <td>2.810794</td>\n",
       "      <td>0.000172</td>\n",
       "      <td>0.006617</td>\n",
       "      <td>46.840076</td>\n",
       "      <td>1.200000e-07</td>\n",
       "      <td>developing</td>\n",
       "    </tr>\n",
       "    <tr>\n",
       "      <th>3</th>\n",
       "      <td>237783.2658</td>\n",
       "      <td>-1.280000e-05</td>\n",
       "      <td>1.658815</td>\n",
       "      <td>3.505458</td>\n",
       "      <td>0.094610</td>\n",
       "      <td>224732.8435</td>\n",
       "      <td>0.000010</td>\n",
       "      <td>2.065285</td>\n",
       "      <td>3.850284</td>\n",
       "      <td>0.088012</td>\n",
       "      <td>...</td>\n",
       "      <td>0.000528</td>\n",
       "      <td>0.027340</td>\n",
       "      <td>163.963855</td>\n",
       "      <td>6.230000e-07</td>\n",
       "      <td>2.389521</td>\n",
       "      <td>0.000146</td>\n",
       "      <td>0.007848</td>\n",
       "      <td>82.850138</td>\n",
       "      <td>8.140000e-08</td>\n",
       "      <td>developing</td>\n",
       "    </tr>\n",
       "    <tr>\n",
       "      <th>4</th>\n",
       "      <td>262471.7945</td>\n",
       "      <td>-1.810000e-05</td>\n",
       "      <td>1.982674</td>\n",
       "      <td>3.334628</td>\n",
       "      <td>0.109602</td>\n",
       "      <td>252981.8743</td>\n",
       "      <td>-0.000019</td>\n",
       "      <td>2.504297</td>\n",
       "      <td>3.721686</td>\n",
       "      <td>0.106695</td>\n",
       "      <td>...</td>\n",
       "      <td>0.000538</td>\n",
       "      <td>0.026176</td>\n",
       "      <td>166.086754</td>\n",
       "      <td>6.620000e-07</td>\n",
       "      <td>2.809236</td>\n",
       "      <td>0.000171</td>\n",
       "      <td>0.007704</td>\n",
       "      <td>53.675009</td>\n",
       "      <td>1.160000e-07</td>\n",
       "      <td>developing</td>\n",
       "    </tr>\n",
       "  </tbody>\n",
       "</table>\n",
       "<p>5 rows × 31 columns</p>\n",
       "</div>"
      ],
      "text/plain": [
       "   oneNormAcc1      meanAcc1   maxAcc1   kurAcc1   varAcc1  oneNormAcc2  \\\n",
       "0  252355.5238 -2.040000e-05  1.771526  3.369627  0.102191  236545.5182   \n",
       "1  254551.4318 -8.550000e-07  1.916687  3.401545  0.104665  238521.4510   \n",
       "2  251983.2009 -4.160000e-06  1.721612  3.423726  0.103383  234660.8963   \n",
       "3  237783.2658 -1.280000e-05  1.658815  3.505458  0.094610  224732.8435   \n",
       "4  262471.7945 -1.810000e-05  1.982674  3.334628  0.109602  252981.8743   \n",
       "\n",
       "   meanAcc2   maxAcc2   kurAcc2   varAcc2  ...  meanAcc2f  maxAcc2f  \\\n",
       "0 -0.000014  2.581460  3.782630  0.093920  ...   0.000588  0.035042   \n",
       "1  0.000004  3.433707  3.936618  0.096439  ...   0.000589  0.024459   \n",
       "2 -0.000008  3.271788  3.954837  0.094232  ...   0.000545  0.024901   \n",
       "3  0.000010  2.065285  3.850284  0.088012  ...   0.000528  0.027340   \n",
       "4 -0.000019  2.504297  3.721686  0.106695  ...   0.000538  0.026176   \n",
       "\n",
       "     kurAcc2f      varAcc2f  oneNormSPf   meanSPf    maxSPf     kurSPf  \\\n",
       "0  230.314873  8.760000e-07    2.454068  0.000150  0.007444  68.290202   \n",
       "1  118.900212  7.530000e-07    2.487198  0.000152  0.007132  63.583436   \n",
       "2  151.750491  6.500000e-07    2.810794  0.000172  0.006617  46.840076   \n",
       "3  163.963855  6.230000e-07    2.389521  0.000146  0.007848  82.850138   \n",
       "4  166.086754  6.620000e-07    2.809236  0.000171  0.007704  53.675009   \n",
       "\n",
       "         varSPf      Status  \n",
       "0  9.470000e-08  developing  \n",
       "1  9.180000e-08  developing  \n",
       "2  1.200000e-07  developing  \n",
       "3  8.140000e-08  developing  \n",
       "4  1.160000e-07  developing  \n",
       "\n",
       "[5 rows x 31 columns]"
      ]
     },
     "execution_count": 2,
     "metadata": {},
     "output_type": "execute_result"
    }
   ],
   "source": [
    "#df.info()\n",
    "df.head(5)"
   ]
  },
  {
   "cell_type": "code",
   "execution_count": 3,
   "id": "00b2ba9f",
   "metadata": {},
   "outputs": [],
   "source": [
    "df['Status'] = df['Status'].map({'unstable':5,'severe':4,'mild':3,'developing':2,'inception':1,'healthy':0})\n",
    "\n",
    "\n",
    "\n",
    "#print(df.to_string())\n",
    "\n",
    "train, test = train_test_split(df, test_size = 0.2)\n",
    "\n",
    "features = [ 'oneNormAcc1','meanAcc1', 'maxAcc1', 'kurAcc1', 'varAcc1','oneNormAcc2','meanAcc2', 'maxAcc2', 'kurAcc2', 'varAcc2','oneNormSP', 'meanSP', 'maxSP' ,\n",
    "            'kurSP', 'varSP', 'oneNormAcc1f', 'meanAcc1f', 'maxAcc1f', 'kurAcc1f', 'varAcc1f', 'oneNormAcc2f', 'meanAcc2f', 'maxAcc2f', 'kurAcc2f', 'varAcc2f', 'oneNormSPf', 'meanSPf', 'maxSPf', 'kurSPf', 'varSPf' ]\n",
    "\n",
    "train_X = train[features]\n",
    "train_y =train.Status\n",
    "\n",
    "test_X = test[features]\n",
    "test_y = test.Status"
   ]
  },
  {
   "cell_type": "code",
   "execution_count": 4,
   "id": "ab6a0c0c",
   "metadata": {},
   "outputs": [],
   "source": [
    "#df.head(5)"
   ]
  },
  {
   "cell_type": "code",
   "execution_count": 5,
   "id": "c672e460",
   "metadata": {},
   "outputs": [],
   "source": [
    "#print(train_y)"
   ]
  },
  {
   "cell_type": "code",
   "execution_count": 6,
   "id": "5b04ab50",
   "metadata": {},
   "outputs": [
    {
     "name": "stdout",
     "output_type": "stream",
     "text": [
      "[3 0 1 4 0 2 2 5 4 4 1 5 3 1 3 4 4 2 4 3 5 5 4 0 5 4 2 3 3 1 2 5 2 0 4 5 1\n",
      " 3 5 4]\n"
     ]
    },
    {
     "data": {
      "text/plain": [
       "0.875"
      ]
     },
     "execution_count": 6,
     "metadata": {},
     "output_type": "execute_result"
    }
   ],
   "source": [
    "model = RandomForestClassifier(n_estimators=200, n_jobs=-1)\n",
    "model.fit(train_X,train_y)\n",
    "\n",
    "prediction = model.predict(test_X)\n",
    "print(prediction)\n",
    "metrics.accuracy_score(prediction,test_y)"
   ]
  },
  {
   "cell_type": "code",
   "execution_count": 7,
   "id": "5714079c",
   "metadata": {},
   "outputs": [
    {
     "data": {
      "text/plain": [
       "Index(['oneNormAcc1', 'meanAcc1', 'maxAcc1', 'kurAcc1', 'varAcc1',\n",
       "       'oneNormAcc2', 'meanAcc2', 'maxAcc2', 'kurAcc2', 'varAcc2', 'oneNormSP',\n",
       "       'meanSP', 'maxSP', 'kurSP', 'varSP', 'oneNormAcc1f', 'meanAcc1f',\n",
       "       'maxAcc1f', 'kurAcc1f', 'varAcc1f', 'oneNormAcc2f', 'meanAcc2f',\n",
       "       'maxAcc2f', 'kurAcc2f', 'varAcc2f', 'oneNormSPf', 'meanSPf', 'maxSPf',\n",
       "       'kurSPf', 'varSPf'],\n",
       "      dtype='object')"
      ]
     },
     "execution_count": 7,
     "metadata": {},
     "output_type": "execute_result"
    }
   ],
   "source": [
    "test_X.columns"
   ]
  },
  {
   "cell_type": "code",
   "execution_count": 8,
   "id": "d7773b38",
   "metadata": {},
   "outputs": [
    {
     "name": "stdout",
     "output_type": "stream",
     "text": [
      "[2]\n"
     ]
    }
   ],
   "source": [
    "data = [[262355.5238,-2.05E-05,1.871526456,3.469626758,0.202190858,236545.5182,-0.0000142, 2.581459761,3.782630043,0.093920181,199619.0538, 0.000871174, 1.111190319, 3.104222527, 0.060525557, 14.95790769, 0.000912958, 0.083375223, 369.4315153, 0.00000453, 9.637587539, 0.000588232, 0.035041776, 230.3148731, 8.76e-7,2.454067899,0.000149784, 0.007444129, 68.29020247,9.47e-8]]\n",
    "\n",
    "# New dataframe for only the columns of interest\n",
    "dfNew = pd.DataFrame(data, columns = ['oneNormAcc1', 'meanAcc1', 'maxAcc1', 'kurAcc1', 'varAcc1','oneNormAcc2', 'meanAcc2', 'maxAcc2', 'kurAcc2', 'varAcc2', 'oneNormSP','meanSP', 'maxSP', 'kurSP', 'varSP', 'oneNormAcc1f', 'meanAcc1f','maxAcc1f', 'kurAcc1f', 'varAcc1f', 'oneNormAcc2f', 'meanAcc2f','maxAcc2f', 'kurAcc2f', 'varAcc2f', 'oneNormSPf', 'meanSPf', 'maxSPf','kurSPf', 'varSPf'])\n",
    "single = model.predict(dfNew)\n",
    "print(single)"
   ]
  },
  {
   "cell_type": "code",
   "execution_count": 9,
   "id": "0cbaa9eb",
   "metadata": {},
   "outputs": [
    {
     "name": "stdout",
     "output_type": "stream",
     "text": [
      "   oneNormAcc1  meanAcc1   maxAcc1   kurAcc1   varAcc1  oneNormAcc2  meanAcc2  \\\n",
      "0  262355.5238 -0.000021  1.871526  3.469627  0.202191  236545.5182 -0.000014   \n",
      "\n",
      "   maxAcc2  kurAcc2  varAcc2  ...  oneNormAcc2f  meanAcc2f  maxAcc2f  \\\n",
      "0  2.58146  3.78263  0.09392  ...      9.637588   0.000588  0.035042   \n",
      "\n",
      "     kurAcc2f      varAcc2f  oneNormSPf  meanSPf    maxSPf     kurSPf  \\\n",
      "0  230.314873  8.760000e-07    2.454068  0.00015  0.007444  68.290202   \n",
      "\n",
      "         varSPf  \n",
      "0  9.470000e-08  \n",
      "\n",
      "[1 rows x 30 columns]\n"
     ]
    }
   ],
   "source": [
    "print(dfNew)"
   ]
  },
  {
   "cell_type": "code",
   "execution_count": 10,
   "id": "6aece744",
   "metadata": {},
   "outputs": [],
   "source": [
    "#print(test_X)"
   ]
  },
  {
   "cell_type": "code",
   "execution_count": 11,
   "id": "4d7540c2",
   "metadata": {},
   "outputs": [],
   "source": [
    "#print(test_y)"
   ]
  },
  {
   "cell_type": "code",
   "execution_count": 12,
   "id": "61a613ae",
   "metadata": {},
   "outputs": [],
   "source": [
    "fname = 'PumpDiagnosticModel1.pkl'\n",
    "pickle.dump(model, open(fname, 'wb'))"
   ]
  }
 ],
 "metadata": {
  "kernelspec": {
   "display_name": "Python 3 (ipykernel)",
   "language": "python",
   "name": "python3"
  },
  "language_info": {
   "codemirror_mode": {
    "name": "ipython",
    "version": 3
   },
   "file_extension": ".py",
   "mimetype": "text/x-python",
   "name": "python",
   "nbconvert_exporter": "python",
   "pygments_lexer": "ipython3",
   "version": "3.9.13"
  }
 },
 "nbformat": 4,
 "nbformat_minor": 5
}
